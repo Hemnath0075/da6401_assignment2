{
 "cells": [
  {
   "cell_type": "markdown",
   "id": "8696899a",
   "metadata": {},
   "source": [
    "Question 1\n",
    "\n",
    "In most DL applications, instead of training a model from scratch, you would use a model pre-trained on a similar/related task/dataset. From torchvision, you can load ANY ONE model (GoogLeNet, InceptionV3, ResNet50, VGG, EfficientNetV2, VisionTransformer etc.) pre-trained on the ImageNet dataset. Given that ImageNet also contains many animal images, it stands to reason that using a model pre-trained on ImageNet maybe helpful for this task.\n",
    "\n",
    "You will load a pre-trained model and then fine-tune it using the naturalist data that you used in the previous question. Simply put, instead of randomly initialising the weigths of a network you will use the weights resulting from training the model on the ImageNet data (torchvision directly provides these weights). Please answer the following questions:\n",
    "\n",
    "\n"
   ]
  },
  {
   "cell_type": "markdown",
   "id": "9f29aef5",
   "metadata": {},
   "source": [
    "The dimensions of the images in your data may not be the same as that in the ImageNet data. How will you address this?"
   ]
  },
  {
   "cell_type": "markdown",
   "id": "dab6c16c",
   "metadata": {},
   "source": [
    "WE should resize the images in your dataset to 224x224 pixels before passing them to the pre-trained model. we can do this by torchvision transform function"
   ]
  },
  {
   "cell_type": "code",
   "execution_count": null,
   "id": "0dabb202",
   "metadata": {},
   "outputs": [],
   "source": [
    "from torchvision import transforms\n",
    "transform = transforms.Compose([\n",
    "    transforms.Resize((224, 224)),  # Resize to 224x224\n",
    "    transforms.ToTensor(),\n",
    "    transforms.Normalize(mean=[0.485, 0.456, 0.406], std=[0.229, 0.224, 0.225]),  # Normalization with ImageNet stats\n",
    "])\n",
    "\n",
    "# this transformes any input image dimention of x * y to 224 * 224 consistently"
   ]
  },
  {
   "cell_type": "markdown",
   "id": "22e88be2",
   "metadata": {},
   "source": []
  },
  {
   "cell_type": "markdown",
   "id": "40fb5e30",
   "metadata": {},
   "source": [
    "ImageNet has 1000 classes and hence the last layer of the pre-trained model would have 1000 nodes. However, the naturalist dataset has only 10 classes. How will you address this?"
   ]
  },
  {
   "cell_type": "code",
   "execution_count": null,
   "id": "065d0925",
   "metadata": {},
   "outputs": [],
   "source": [
    "import torchvision.models as models\n",
    "import torch.nn as nn\n",
    "\n",
    "# Load a pre-trained ResNet50 model\n",
    "model = models.resnet50(pretrained=True)\n",
    "\n",
    "# Modify the last fully connected layer\n",
    "model.fc = nn.Linear(model.fc.in_features, 10)  # Change output features to 10\n"
   ]
  },
  {
   "cell_type": "code",
   "execution_count": 5,
   "id": "bb5abdf8",
   "metadata": {},
   "outputs": [
    {
     "name": "stdout",
     "output_type": "stream",
     "text": [
      "Epoch [1/5] | Loss: 1.1397 | Train Acc: 63.03% | Val Acc: 73.50%\n",
      "Epoch [2/5] | Loss: 0.8470 | Train Acc: 72.46% | Val Acc: 75.70%\n",
      "Epoch [3/5] | Loss: 0.7859 | Train Acc: 74.05% | Val Acc: 75.56%\n",
      "Epoch [4/5] | Loss: 0.7800 | Train Acc: 74.60% | Val Acc: 77.39%\n",
      "Epoch [5/5] | Loss: 0.7516 | Train Acc: 75.48% | Val Acc: 74.11%\n"
     ]
    }
   ],
   "source": [
    "import torch\n",
    "import torch.nn as nn\n",
    "import torchvision.models as models\n",
    "import torchvision.transforms as transforms\n",
    "from torchvision.datasets import ImageFolder\n",
    "from torch.utils.data import DataLoader\n",
    "import torch.optim as optim\n",
    "\n",
    "# Step 1: Define transforms\n",
    "transform = transforms.Compose([\n",
    "    transforms.Resize((224, 224)),\n",
    "    transforms.ToTensor(),\n",
    "    transforms.Normalize(mean=[0.485, 0.456, 0.406],\n",
    "                         std=[0.229, 0.224, 0.225])\n",
    "])\n",
    "\n",
    "# Step 2: Load dataset\n",
    "train_dataset = ImageFolder(root='../train/', transform=transform)\n",
    "val_dataset = ImageFolder(root='../val/', transform=transform)\n",
    "\n",
    "train_loader = DataLoader(train_dataset, batch_size=32, shuffle=True,num_workers=4, pin_memory=True)\n",
    "val_loader = DataLoader(val_dataset, batch_size=32,num_workers=4, pin_memory=True)\n",
    "\n",
    "# Step 3: Load pre-trained model and freeze all layers\n",
    "model = models.resnet50(pretrained=True)\n",
    "\n",
    "for param in model.parameters():\n",
    "    param.requires_grad = False  # Freeze all layers\n",
    "\n",
    "# Step 4: Replace the final FC layer\n",
    "num_classes = 10  # Adjust as per your dataset\n",
    "model.fc = nn.Linear(model.fc.in_features, num_classes)\n",
    "\n",
    "# Step 5: Move model to device and define loss/optimizer\n",
    "device = torch.device(\"cuda:1\" if torch.cuda.is_available() else \"cpu\")\n",
    "model = model.to(device)\n",
    "\n",
    "criterion = nn.CrossEntropyLoss()\n",
    "optimizer = optim.Adam(model.fc.parameters(), lr=0.001)\n",
    "\n",
    "# Step 6: Train only the new head\n",
    "for epoch in range(5):\n",
    "    model.train()\n",
    "    running_loss = 0.0\n",
    "    correct_train = 0\n",
    "    total_train = 0\n",
    "\n",
    "    for images, labels in train_loader:\n",
    "        images, labels = images.to(device), labels.to(device)\n",
    "        optimizer.zero_grad()\n",
    "        outputs = model(images)\n",
    "        loss = criterion(outputs, labels)\n",
    "        loss.backward()\n",
    "        optimizer.step()\n",
    "\n",
    "        running_loss += loss.item()\n",
    "\n",
    "        # Calculate training accuracy\n",
    "        _, predicted = torch.max(outputs, 1)\n",
    "        correct_train += (predicted == labels).sum().item()\n",
    "        total_train += labels.size(0)\n",
    "\n",
    "    train_acc = 100 * correct_train / total_train\n",
    "\n",
    "    # Evaluate on validation set\n",
    "    model.eval()\n",
    "    correct_val = 0\n",
    "    total_val = 0\n",
    "    with torch.no_grad():\n",
    "        for images, labels in val_loader:\n",
    "            images, labels = images.to(device), labels.to(device)\n",
    "            outputs = model(images)\n",
    "            _, predicted = torch.max(outputs, 1)\n",
    "            correct_val += (predicted == labels).sum().item()\n",
    "            total_val += labels.size(0)\n",
    "\n",
    "    val_acc = 100 * correct_val / total_val\n",
    "\n",
    "    print(f\"Epoch [{epoch+1}/5] | Loss: {running_loss/len(train_loader):.4f} | Train Acc: {train_acc:.2f}% | Val Acc: {val_acc:.2f}%\")\n"
   ]
  },
  {
   "cell_type": "markdown",
   "id": "b658f78a",
   "metadata": {},
   "source": []
  }
 ],
 "metadata": {
  "kernelspec": {
   "display_name": "venv",
   "language": "python",
   "name": "python3"
  },
  "language_info": {
   "codemirror_mode": {
    "name": "ipython",
    "version": 3
   },
   "file_extension": ".py",
   "mimetype": "text/x-python",
   "name": "python",
   "nbconvert_exporter": "python",
   "pygments_lexer": "ipython3",
   "version": "3.10.11"
  }
 },
 "nbformat": 4,
 "nbformat_minor": 5
}
